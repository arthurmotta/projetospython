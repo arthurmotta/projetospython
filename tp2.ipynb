{
  "nbformat": 4,
  "nbformat_minor": 0,
  "metadata": {
    "colab": {
      "name": "tp2.ipynb",
      "provenance": [],
      "authorship_tag": "ABX9TyOLs4GMTSrzv7H4LmGoZWI2",
      "include_colab_link": true
    },
    "kernelspec": {
      "name": "python3",
      "display_name": "Python 3"
    }
  },
  "cells": [
    {
      "cell_type": "markdown",
      "metadata": {
        "id": "view-in-github",
        "colab_type": "text"
      },
      "source": [
        "<a href=\"https://colab.research.google.com/github/arthurmotta/projetospython/blob/master/tp2.ipynb\" target=\"_parent\"><img src=\"https://colab.research.google.com/assets/colab-badge.svg\" alt=\"Open In Colab\"/></a>"
      ]
    },
    {
      "cell_type": "markdown",
      "metadata": {
        "id": "fSb0l6DXBDy5",
        "colab_type": "text"
      },
      "source": [
        "Escreva um programa em Python que exiba graficamente:\n",
        "\n",
        "*   A porcentagem do uso de memória;\n",
        "*   A porcentagem do uso de CPU, junto com a informação detalhada da plataforma de processamento;\n",
        "*   A porcentagem do uso de disco;\n",
        "*   A informação do IP da máquina.\n",
        "\n",
        "Todas as barras e informações devem estar na mesma tela, devendo fazer o uso de superfícies ou surfaces."
      ]
    },
    {
      "cell_type": "code",
      "metadata": {
        "id": "Ha9_M5jLKieP",
        "colab_type": "code",
        "colab": {
          "base_uri": "https://localhost:8080/",
          "height": 493
        },
        "outputId": "9bcc58ec-d4de-494c-9dc0-d61b2bf8a5ad"
      },
      "source": [
        "import psutil\n",
        "import platform\n",
        "import time\n",
        "\n",
        "memoria = psutil.virtual_memory()\n",
        "capacidade = round(memoria.total/(1024*1024*1024), 2)\n",
        "\n",
        "print(\"Total de memória principal:\", capacidade, \"GB\")\n",
        "print(\"\\nPorcentagem de Uso da CPU:\")\n",
        "for i in range(0, 10):\n",
        "      print(psutil.cpu_percent())\n",
        "      time.sleep(1)\n",
        "\n",
        "print(\"\\nInformações detalhadas de processamento:\\n\",platform.processor())\n",
        "print(platform.node())\n",
        "print(platform.platform())\n",
        "print(platform.system(),\"\\n\")\n",
        "\n",
        "disco = psutil.disk_usage('.')\n",
        "\n",
        "print(\"Porcentagem de Uso de Disco:\")\n",
        "print(\"Total:\", round(disco.total/(1024*1024*1024), 2), \"GB\")\n",
        "print(\"Em uso:\", round(disco.used/(1024*1024*1024), 2), \"GB\")\n",
        "print(\"Livre:\", round(disco.free/(1024*1024*1024), 2), \"GB\")\n",
        "print(\"Percentual de Disco Usado:\", disco.percent,\"\\n\")\n",
        "\n",
        "dic_interfaces = psutil.net_if_addrs()\n",
        "\n",
        "print(\"Informação de IP da Máquina:\")\n",
        "print(dic_interfaces['eth0'][0].address)\n"
      ],
      "execution_count": 27,
      "outputs": [
        {
          "output_type": "stream",
          "text": [
            "Total de memória principal: 12.72 GB\n",
            "\n",
            "Porcentagem de Uso da CPU:\n",
            "2.7\n",
            "2.5\n",
            "1.0\n",
            "1.5\n",
            "2.0\n",
            "3.0\n",
            "0.5\n",
            "1.0\n",
            "1.0\n",
            "1.5\n",
            "\n",
            "Informações detalhadas de processamento:\n",
            " x86_64\n",
            "61ff63c6cb6a\n",
            "Linux-4.19.104+-x86_64-with-Ubuntu-18.04-bionic\n",
            "Linux \n",
            "\n",
            "Porcentagem de Uso de Disco:\n",
            "Total: 107.77 GB\n",
            "Em uso: 30.91 GB\n",
            "Livre: 71.35 GB\n",
            "Percentual de Disco Usado: 30.2 \n",
            "\n",
            "Informação de IP da máquina:\n",
            "172.28.0.2\n"
          ],
          "name": "stdout"
        }
      ]
    }
  ]
}