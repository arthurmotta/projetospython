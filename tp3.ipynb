{
  "nbformat": 4,
  "nbformat_minor": 0,
  "metadata": {
    "colab": {
      "name": "tp3.ipynb",
      "provenance": [],
      "authorship_tag": "ABX9TyMEf270CFDlIIQ/b3MtvNkE",
      "include_colab_link": true
    },
    "kernelspec": {
      "name": "python3",
      "display_name": "Python 3"
    }
  },
  "cells": [
    {
      "cell_type": "markdown",
      "metadata": {
        "id": "view-in-github",
        "colab_type": "text"
      },
      "source": [
        "<a href=\"https://colab.research.google.com/github/arthurmotta/projetospython/blob/master/tp3.ipynb\" target=\"_parent\"><img src=\"https://colab.research.google.com/assets/colab-badge.svg\" alt=\"Open In Colab\"/></a>"
      ]
    },
    {
      "cell_type": "markdown",
      "metadata": {
        "id": "Dr34U67LcjR4",
        "colab_type": "text"
      },
      "source": [
        "Alterar o programa feito no TP2 de modo a possuir 5 visualizações diferentes:\n",
        "\n",
        "Alterar a barra de CPU do TP2 para ter barras de CPU associadas a cada núcleo (core);\n",
        "\n",
        "* Adicionar informação de nome/modelo da CPU (brand);\n",
        "* Adicionar informação do tipo da arquitetura (arch);\n",
        "* Adicionar informação da palavra do processador (bits);\n",
        "* Adicionar informação sobre a frequência total e frequência de uso da CPU;\n",
        "* Adicionar informação do número total de núcleos (núcleo físico) e threads (núcleo lógico)."
      ]
    },
    {
      "cell_type": "code",
      "metadata": {
        "id": "jfMM7hz7cJtI",
        "colab_type": "code",
        "colab": {}
      },
      "source": [
        "import psutil\n",
        "import platform\n",
        "import time\n",
        "import socket\n",
        "import cpuinfo\n",
        "\n",
        "memoria = psutil.virtual_memory()\n",
        "capacidade = round(memoria.total/(1024*1024*1024), 2)\n",
        "hostname = socket.gethostname()\n",
        "ip_address = socket.gethostbyname(hostname)\n",
        "disco = psutil.disk_usage('.')\n",
        "info = cpuinfo.get_cpu_info()\n",
        "\n",
        "print(\"Total de memória principal:\", capacidade, \"GB\")\n",
        "print(\"\\nPorcentagem de Uso da CPU:\")\n",
        "for i in range(0, 1):\n",
        "    print(psutil.cpu_percent())\n",
        "    time.sleep(1)\n",
        "\n",
        "print(f\"\\nInformações detalhadas de processamento:\\n{platform.processor()}\")\n",
        "print(platform.node())\n",
        "print(platform.platform())\n",
        "print(platform.system(),\"\\n\")\n",
        "print(\"Porcentagem de Uso de Disco:\")\n",
        "print(\"Total:\", round(disco.total/(1024*1024*1024), 2), \"GB\")\n",
        "print(\"Em uso:\", round(disco.used/(1024*1024*1024), 2), \"GB\")\n",
        "print(\"Livre:\", round(disco.free/(1024*1024*1024), 2), \"GB\")\n",
        "print(\"Percentual de Disco Usado:\", disco.percent,\"\\n\")\n",
        "print(f\"Informação de IP da Máquina:\\nHostname: {hostname}\\nIP Address: {ip_address}\\n\")\n",
        "print(f\"Nome/modelo da CPU: {info['brand']}\\nTipo da arquitetura: {info['arch']}\\nPalavra do processador: {info['bits']}\")\n",
        "print(f\"Frequência Total: {psutil.cpu_freq().max}\\nFrequência de Uso: {psutil.cpu_freq().current}\")\n",
        "print(f\"Número total de núcleos: {psutil.cpu_count(logical=False)}\\nThreads: {psutil.cpu_count()"
      ],
      "execution_count": 0,
      "outputs": []
    }
  ]
}